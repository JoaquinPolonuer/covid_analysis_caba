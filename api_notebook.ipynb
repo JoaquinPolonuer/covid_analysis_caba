{
 "cells": [
  {
   "cell_type": "raw",
   "metadata": {},
   "source": [
    "CABA\n",
    "- Cuantos casos hubo en cierto dia\n",
    "- rango de casos (en forma de dataframe) entre ciertos dias\n",
    "- grafico total de casos\n"
   ]
  },
  {
   "cell_type": "code",
   "execution_count": 1,
   "metadata": {},
   "outputs": [],
   "source": [
    "import pandas as pd\n",
    "import matplotlib.pyplot as plt"
   ]
  },
  {
   "cell_type": "code",
   "execution_count": 2,
   "metadata": {},
   "outputs": [
    {
     "name": "stderr",
     "output_type": "stream",
     "text": [
      "C:\\Users\\44594722\\AppData\\Local\\Continuum\\anaconda3\\lib\\site-packages\\IPython\\core\\interactiveshell.py:3058: DtypeWarning: Columns (10,11,13) have mixed types. Specify dtype option on import or set low_memory=False.\n",
      "  interactivity=interactivity, compiler=compiler, result=result)\n"
     ]
    }
   ],
   "source": [
    "dataset_completo = pd.read_csv(\"https://cdn.buenosaires.gob.ar/datosabiertos/datasets/salud/casos-covid-19/casos_covid19.csv\")"
   ]
  },
  {
   "cell_type": "code",
   "execution_count": 3,
   "metadata": {},
   "outputs": [],
   "source": [
    "meses_replace = {\"JAN\":\"01\",\"FEB\":\"02\",\"MAR\":\"03\",\"APR\":\"04\",\"MAY\":\"05\",\"JUN\":\"06\",\"JUL\":\"07\",\"AUG\":\"08\",\"SEP\":\"09\",\"OCT\":\"10\",\"NOV\":\"11\",\"DEC\":\"12\"}"
   ]
  },
  {
   "cell_type": "code",
   "execution_count": 4,
   "metadata": {},
   "outputs": [],
   "source": [
    "dataset_completo_procesado = dataset_completo.copy()\n",
    "####################################### CREAMOS LA COLUMNA DEL DIA DE CLASIFICACION ########################################\n",
    "mes_clasificacion = dataset_completo_procesado[\"fecha_clasificacion\"].str[2:5].replace(meses_replace)\n",
    "dia_clasificacion = dataset_completo_procesado[\"fecha_clasificacion\"].str[:2]\n",
    "dataset_completo_procesado[\"mes/dia\"] = mes_clasificacion.map(str) +\"/\"+ dia_clasificacion.map(str)\n",
    "#################################################################################################################\n",
    "\n",
    "################################## CREAMOS LA COLUMNA DEL DIA DE LA MUERTE ##################################################\n",
    "mes_muerte = dataset_completo_procesado[\"fecha_fallecimiento\"].str[2:5].replace(meses_replace)\n",
    "dia_muerte = dataset_completo_procesado[\"fecha_fallecimiento\"].str[:2]\n",
    "dataset_completo_procesado[\"mes/dia_fallecimiento\"] = mes_muerte.map(str) +\"/\"+ dia_muerte.map(str)\n",
    "#############################################################################################################################"
   ]
  },
  {
   "cell_type": "code",
   "execution_count": 5,
   "metadata": {},
   "outputs": [],
   "source": [
    "#################################### AQUI UTILIZAREMOS DISTINTOS CRITERIOS PARA SORTEAR EL DATASET ##########################\n",
    "dataset_completo_procesado_sorted_clasificacion = dataset_completo_procesado.copy().sort_values(\"mes/dia\")\n",
    "dataset_completo_procesado_sorted_muerte = dataset_completo_procesado.copy().sort_values(\"mes/dia_fallecimiento\")"
   ]
  },
  {
   "cell_type": "code",
   "execution_count": 6,
   "metadata": {},
   "outputs": [],
   "source": [
    "def nuevos_casos_caba_dia(dia, residentes = True):\n",
    "    filtro = dataset_completo_procesado.copy()\n",
    "    if residentes:\n",
    "        filtro = filtro[filtro[\"provincia\"]==\"CABA\"]\n",
    "    confirmados = filtro[filtro[\"clasificacion\"]==\"confirmado\"]\n",
    "    cant_casos = confirmados[confirmados[\"mes/dia\"]==dia]\n",
    "    return {dia: len(cant_casos)}"
   ]
  },
  {
   "cell_type": "code",
   "execution_count": 7,
   "metadata": {},
   "outputs": [],
   "source": [
    "def nuevas_muertes_caba_dia(dia, residentes = True):\n",
    "    filtro = dataset_completo_procesado.copy()\n",
    "    if residentes:\n",
    "        filtro = filtro[filtro[\"provincia\"]==\"CABA\"]\n",
    "    muertes = filtro[filtro[\"fallecido\"]==\"si\"]\n",
    "    cant_muertes = muertes[muertes[\"mes/dia_fallecimiento\"]==dia]\n",
    "    return {dia: len(cant_muertes)}"
   ]
  },
  {
   "cell_type": "code",
   "execution_count": 8,
   "metadata": {},
   "outputs": [],
   "source": [
    "def nuevos_casos_caba_rango(desde=\"0\",hasta=\"3000\", residentes = True):\n",
    "    filtro = dataset_completo_procesado_sorted_clasificacion.copy()\n",
    "    if residentes:\n",
    "        filtro = filtro[filtro[\"provincia\"]==\"CABA\"]\n",
    "    confirmados = filtro[filtro[\"clasificacion\"]==\"confirmado\"]\n",
    "    confirmados_dict = {}\n",
    "    for i in confirmados[\"mes/dia\"]:\n",
    "        if desde <= i < hasta:\n",
    "            confirmados_dict[i] = confirmados_dict.get(i,0) + 1 \n",
    "    return confirmados_dict"
   ]
  },
  {
   "cell_type": "code",
   "execution_count": 9,
   "metadata": {},
   "outputs": [],
   "source": [
    "def nuevas_muertes_caba_rango(desde=\"0\",hasta=\"3000\", residentes = True):\n",
    "    filtro = dataset_completo_procesado_sorted_muerte.copy()\n",
    "    if residentes:\n",
    "        filtro = filtro[filtro[\"provincia\"]==\"CABA\"]\n",
    "    muertes = filtro[filtro[\"fallecido\"]==\"si\"]\n",
    "    muertes_dict = {}\n",
    "    for i in muertes[\"mes/dia_fallecimiento\"]:\n",
    "        if desde <= i < hasta:\n",
    "            muertes_dict[i] = muertes_dict.get(i,0) + 1 \n",
    "    return muertes_dict"
   ]
  },
  {
   "cell_type": "markdown",
   "metadata": {},
   "source": [
    "## Lo que viene a continuacion son pruebas"
   ]
  },
  {
   "cell_type": "code",
   "execution_count": 211,
   "metadata": {},
   "outputs": [],
   "source": [
    "import datetime\n",
    "import numpy as np\n",
    "from sklearn.linear_model import LinearRegression"
   ]
  },
  {
   "cell_type": "code",
   "execution_count": 118,
   "metadata": {},
   "outputs": [],
   "source": [
    "cases = nuevos_casos_caba_rango()\n",
    "dates = list(cases.keys())\n",
    "values = list(cases.values())"
   ]
  },
  {
   "cell_type": "code",
   "execution_count": 119,
   "metadata": {},
   "outputs": [],
   "source": [
    "for i,date in enumerate(dates):\n",
    "    dates[i]+=\"/2020\""
   ]
  },
  {
   "cell_type": "code",
   "execution_count": 120,
   "metadata": {},
   "outputs": [],
   "source": [
    "dates = [datetime.datetime.strptime(d,\"%m/%d/%Y\").date() for d in dates]\n"
   ]
  },
  {
   "cell_type": "code",
   "execution_count": 221,
   "metadata": {},
   "outputs": [],
   "source": [
    "beta = 0.9\n",
    "sample_size = int(1/(1-beta))\n",
    "vt = 0\n",
    "app = [0]*sample_size\n",
    "\n",
    "for i in range(sample_size,len(values)):\n",
    "    vt = beta*(mean(values[i-sample_size:i]))+(1-beta)*values[i]\n",
    "    app.append(int(vt))"
   ]
  },
  {
   "cell_type": "code",
   "execution_count": 222,
   "metadata": {},
   "outputs": [
    {
     "data": {
      "image/png": "[encoded data removed]",
      "text/plain": [
       "<Figure size 432x288 with 1 Axes>"
      ]
     },
     "metadata": {
      "needs_background": "light"
     },
     "output_type": "display_data"
    }
   ],
   "source": [
    "fig, ax = plt.subplots()\n",
    "ax.plot(dates,values)\n",
    "ax.plot(dates,app)\n",
    "fig.autofmt_xdate()"
   ]
  },
  {
   "cell_type": "code",
   "execution_count": 223,
   "metadata": {},
   "outputs": [],
   "source": [
    "linear_descent = app[app.index(max(app)):]"
   ]
  },
  {
   "cell_type": "code",
   "execution_count": 235,
   "metadata": {},
   "outputs": [],
   "source": [
    "y = np.array(linear_descent).reshape(-1,1)"
   ]
  },
  {
   "cell_type": "code",
   "execution_count": 252,
   "metadata": {},
   "outputs": [],
   "source": [
    "x = range(len(y))\n",
    "x_train = np.array(x).reshape(-1,1)"
   ]
  },
  {
   "cell_type": "code",
   "execution_count": 254,
   "metadata": {},
   "outputs": [],
   "source": [
    "reg = LinearRegression()"
   ]
  },
  {
   "cell_type": "code",
   "execution_count": 255,
   "metadata": {},
   "outputs": [
    {
     "data": {
      "text/plain": [
       "LinearRegression(copy_X=True, fit_intercept=True, n_jobs=None, normalize=False)"
      ]
     },
     "execution_count": 255,
     "metadata": {},
     "output_type": "execute_result"
    }
   ],
   "source": [
    "reg.fit(x_train,y)"
   ]
  },
  {
   "cell_type": "code",
   "execution_count": 264,
   "metadata": {},
   "outputs": [
    {
     "data": {
      "text/plain": [
       "[<matplotlib.lines.Line2D at 0x181250b3108>]"
      ]
     },
     "execution_count": 264,
     "metadata": {},
     "output_type": "execute_result"
    },
    {
     "data": {
      "image/png": "[encoded data removed]",
      "text/plain": [
       "<Figure size 432x288 with 1 Axes>"
      ]
     },
     "metadata": {
      "needs_background": "light"
     },
     "output_type": "display_data"
    }
   ],
   "source": [
    "fig,ax = plt.subplots()\n",
    "predictions = []\n",
    "i = 0\n",
    "pred = 1\n",
    "while pred > 0:\n",
    "    pred = reg.predict([[i]])[0]\n",
    "    predictions.append(pred)\n",
    "    i+=1\n",
    "ax.plot(x,linear_descent)\n",
    "ax.plot(range(len(predictions)),predictions)"
   ]
  },
  {
   "cell_type": "code",
   "execution_count": 265,
   "metadata": {},
   "outputs": [
    {
     "data": {
      "text/plain": [
       "109"
      ]
     },
     "execution_count": 265,
     "metadata": {},
     "output_type": "execute_result"
    }
   ],
   "source": [
    "len(predictions)"
   ]
  },
  {
   "cell_type": "code",
   "execution_count": 266,
   "metadata": {},
   "outputs": [
    {
     "data": {
      "text/plain": [
       "86"
      ]
     },
     "execution_count": 266,
     "metadata": {},
     "output_type": "execute_result"
    }
   ],
   "source": [
    "len(linear_descent)"
   ]
  },
  {
   "cell_type": "code",
   "execution_count": 268,
   "metadata": {},
   "outputs": [
    {
     "data": {
      "text/plain": [
       "23"
      ]
     },
     "execution_count": 268,
     "metadata": {},
     "output_type": "execute_result"
    }
   ],
   "source": [
    "len(predictions)-len(linear_descent)"
   ]
  },
  {
   "cell_type": "code",
   "execution_count": null,
   "metadata": {},
   "outputs": [],
   "source": []
  }
 ],
 "metadata": {
  "kernelspec": {
   "display_name": "Python 3",
   "language": "python",
   "name": "python3"
  },
  "language_info": {
   "codemirror_mode": {
    "name": "ipython",
    "version": 3
   },
   "file_extension": ".py",
   "mimetype": "text/x-python",
   "name": "python",
   "nbconvert_exporter": "python",
   "pygments_lexer": "ipython3",
   "version": "3.7.4"
  }
 },
 "nbformat": 4,
 "nbformat_minor": 4
}
