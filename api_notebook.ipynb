{
 "cells": [
  {
   "cell_type": "raw",
   "metadata": {},
   "source": [
    "CABA\n",
    "- Cuantos casos hubo en cierto dia\n",
    "- rango de casos (en forma de dataframe) entre ciertos dias\n",
    "- grafico total de casos\n"
   ]
  },
  {
   "cell_type": "code",
   "execution_count": 1,
   "metadata": {},
   "outputs": [],
   "source": [
    "import pandas as pd\n",
    "import matplotlib.pyplot as plt"
   ]
  },
  {
   "cell_type": "code",
   "execution_count": 2,
   "metadata": {},
   "outputs": [
    {
     "name": "stderr",
     "output_type": "stream",
     "text": [
      "C:\\Users\\44594722\\AppData\\Local\\Continuum\\anaconda3\\lib\\site-packages\\IPython\\core\\interactiveshell.py:3058: DtypeWarning: Columns (10,11,13) have mixed types. Specify dtype option on import or set low_memory=False.\n",
      "  interactivity=interactivity, compiler=compiler, result=result)\n"
     ]
    }
   ],
   "source": [
    "dataset_completo = pd.read_csv(\"https://cdn.buenosaires.gob.ar/datosabiertos/datasets/salud/casos-covid-19/casos_covid19.csv\")"
   ]
  },
  {
   "cell_type": "code",
   "execution_count": 11,
   "metadata": {},
   "outputs": [],
   "source": [
    "dataset_completo_caba = dataset_completo[dataset_completo[\"provincia\"]==\"CABA\"].copy()\n",
    "dataset_completo_caba[\"mes_confirmado\"] = dataset_completo_caba[\"fecha_clasificacion\"].str[2:5]\n",
    "dataset_completo_caba[\"dia_confirmado\"] = dataset_completo_caba[\"fecha_clasificacion\"].str[:2]\n",
    "meses_replace = {\"JAN\":1,\"FEB\":2,\"MAR\":3,\"APR\":4,\"MAY\":5,\"JUN\":6,\"JUL\":7,\"AUG\":8,\"SEP\":9,\"OCT\":10,\"NOV\":11,\"DEC\":12}\n",
    "dataset_completo_caba[\"mes_confirmado_num\"] = dataset_completo_caba[\"mes_confirmado\"].replace(meses_replace)\n",
    "dataset_completo_caba = dataset_completo_caba.sort_values([\"mes_confirmado_num\", \"dia_confirmado\"])\n",
    "dataset_completo_caba[\"mes_confirmado_num\"] = dataset_completo_caba[\"mes_confirmado_num\"].astype(str)\n",
    "dataset_completo_caba[\"id_dia\"] = dataset_completo_caba[\"dia_confirmado\"].map(str) +\"/\"+dataset_completo_caba[\"mes_confirmado_num\"].map(str)"
   ]
  },
  {
   "cell_type": "code",
   "execution_count": 12,
   "metadata": {},
   "outputs": [],
   "source": [
    "dataset_completo_caba_confirmados = dataset_completo_caba[dataset_completo_caba[\"clasificacion\"]==\"confirmado\"].copy()"
   ]
  },
  {
   "cell_type": "code",
   "execution_count": 13,
   "metadata": {},
   "outputs": [],
   "source": [
    "dataset_completo_caba_muertes = dataset_completo_caba_confirmados.copy()[dataset_completo_caba_confirmados[\"fallecido\"]==\"si\"]"
   ]
  },
  {
   "cell_type": "code",
   "execution_count": 14,
   "metadata": {},
   "outputs": [],
   "source": [
    "dataset_completo_caba_muertes[\"mes_muerte\"] = dataset_completo_caba_muertes[\"fecha_fallecimiento\"].str[2:5]\n",
    "dataset_completo_caba_muertes[\"dia_muerte\"] = dataset_completo_caba_muertes[\"fecha_fallecimiento\"].str[:2]\n",
    "meses_replace = {\"JAN\":1,\"FEB\":2,\"MAR\":3,\"APR\":4,\"MAY\":5,\"JUN\":6,\"JUL\":7,\"AUG\":8,\"SEP\":9,\"OCT\":10,\"NOV\":11,\"DEC\":12}\n",
    "dataset_completo_caba_muertes[\"mes_muerte_num\"] = dataset_completo_caba_muertes[\"mes_muerte\"].replace(meses_replace)\n",
    "dataset_completo_caba_muertes = dataset_completo_caba_muertes.sort_values([\"mes_muerte_num\", \"dia_muerte\"])\n",
    "dataset_completo_caba_muertes[\"mes_muerte_num\"] = dataset_completo_caba_muertes[\"mes_muerte_num\"].astype(str)\n",
    "dataset_completo_caba_muertes[\"id_dia_muerte\"] = dataset_completo_caba_muertes[\"dia_muerte\"].map(str) +\"/\"+dataset_completo_caba_muertes[\"mes_muerte_num\"].map(str)"
   ]
  },
  {
   "cell_type": "code",
   "execution_count": 15,
   "metadata": {},
   "outputs": [],
   "source": [
    "def nuevos_casos_caba_dia(dia):\n",
    "    cant_casos = dataset_completo_caba_confirmados[dataset_completo_caba_confirmados[\"id_dia\"]==dia]\n",
    "    return {dia: len(cant_casos)}"
   ]
  },
  {
   "cell_type": "code",
   "execution_count": 20,
   "metadata": {},
   "outputs": [],
   "source": [
    "def nuevas_muertes_caba_dia(dia):\n",
    "    cant_muertes = dataset_completo_caba_muertes[dataset_completo_caba_muertes[\"id_dia_muerte\"]==dia]\n",
    "    return {dia: len(cant_muertes)}"
   ]
  },
  {
   "cell_type": "code",
   "execution_count": 29,
   "metadata": {},
   "outputs": [],
   "source": [
    "def nuevos_casos_caba_rango(desde=\"16/2\",hasta = None):\n",
    "    dict_cant_casos = {}\n",
    "    in_range = False\n",
    "    for i in dataset_completo_caba_confirmados[\"id_dia\"]:\n",
    "        if i == desde:\n",
    "            in_range = True\n",
    "        if i == hasta:\n",
    "            in_range = False\n",
    "        if in_range:\n",
    "            dict_cant_casos[i]=dict_cant_casos.get(i,0)+1\n",
    "    return dict_cant_casos"
   ]
  },
  {
   "cell_type": "code",
   "execution_count": 32,
   "metadata": {},
   "outputs": [],
   "source": [
    "def nuevas_muertes_caba_rango(desde=\"07/3\",hasta = None):\n",
    "    dict_cant_muertes = {}\n",
    "    in_range = False\n",
    "    for i in dataset_completo_caba_muertes[\"id_dia_muerte\"]:\n",
    "        if i == desde:\n",
    "            in_range = True\n",
    "        if i == hasta:\n",
    "            in_range = False\n",
    "        if in_range:\n",
    "            dict_cant_muertes[i]=dict_cant_muertes.get(i,0)+1\n",
    "    return dict_cant_muertes"
   ]
  },
  {
   "cell_type": "code",
   "execution_count": 33,
   "metadata": {},
   "outputs": [
    {
     "data": {
      "text/plain": [
       "{'05/11': 486}"
      ]
     },
     "execution_count": 33,
     "metadata": {},
     "output_type": "execute_result"
    }
   ],
   "source": [
    "nuevos_casos_caba_dia(\"05/11\")"
   ]
  },
  {
   "cell_type": "code",
   "execution_count": 34,
   "metadata": {},
   "outputs": [
    {
     "data": {
      "text/plain": [
       "{'06/11': 2}"
      ]
     },
     "execution_count": 34,
     "metadata": {},
     "output_type": "execute_result"
    }
   ],
   "source": [
    "nuevas_muertes_caba_dia(\"06/11\")"
   ]
  },
  {
   "cell_type": "code",
   "execution_count": 35,
   "metadata": {},
   "outputs": [
    {
     "data": {
      "text/plain": [
       "{'01/11': 274,\n",
       " '02/11': 416,\n",
       " '03/11': 463,\n",
       " '04/11': 360,\n",
       " '05/11': 486,\n",
       " '06/11': 122}"
      ]
     },
     "execution_count": 35,
     "metadata": {},
     "output_type": "execute_result"
    }
   ],
   "source": [
    "nuevos_casos_caba_rango(\"01/11\",None)"
   ]
  },
  {
   "cell_type": "code",
   "execution_count": 36,
   "metadata": {},
   "outputs": [
    {
     "data": {
      "text/plain": [
       "{'01/11': 13, '02/11': 8, '03/11': 10, '04/11': 6, '05/11': 5, '06/11': 2}"
      ]
     },
     "execution_count": 36,
     "metadata": {},
     "output_type": "execute_result"
    }
   ],
   "source": [
    "nuevas_muertes_caba_rango(\"01/11\",None)"
   ]
  },
  {
   "cell_type": "code",
   "execution_count": 40,
   "metadata": {},
   "outputs": [
    {
     "data": {
      "text/plain": [
       "5221"
      ]
     },
     "execution_count": 40,
     "metadata": {},
     "output_type": "execute_result"
    }
   ],
   "source": []
  },
  {
   "cell_type": "code",
   "execution_count": null,
   "metadata": {},
   "outputs": [],
   "source": []
  }
 ],
 "metadata": {
  "kernelspec": {
   "display_name": "Python 3",
   "language": "python",
   "name": "python3"
  },
  "language_info": {
   "codemirror_mode": {
    "name": "ipython",
    "version": 3
   },
   "file_extension": ".py",
   "mimetype": "text/x-python",
   "name": "python",
   "nbconvert_exporter": "python",
   "pygments_lexer": "ipython3",
   "version": "3.7.4"
  }
 },
 "nbformat": 4,
 "nbformat_minor": 4
}
