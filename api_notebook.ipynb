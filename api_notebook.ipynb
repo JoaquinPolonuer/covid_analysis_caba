{
 "cells": [
  {
   "cell_type": "raw",
   "metadata": {},
   "source": [
    "CABA\n",
    "- Cuantos casos hubo en cierto dia\n",
    "- rango de casos (en forma de dataframe) entre ciertos dias\n",
    "- grafico total de casos\n"
   ]
  },
  {
   "cell_type": "code",
   "execution_count": 1,
   "metadata": {},
   "outputs": [],
   "source": [
    "import pandas as pd\n",
    "import matplotlib.pyplot as plt"
   ]
  },
  {
   "cell_type": "code",
   "execution_count": 2,
   "metadata": {},
   "outputs": [
    {
     "name": "stderr",
     "output_type": "stream",
     "text": [
      "C:\\Users\\44594722\\AppData\\Local\\Continuum\\anaconda3\\lib\\site-packages\\IPython\\core\\interactiveshell.py:3058: DtypeWarning: Columns (10,11,13) have mixed types. Specify dtype option on import or set low_memory=False.\n",
      "  interactivity=interactivity, compiler=compiler, result=result)\n"
     ]
    }
   ],
   "source": [
    "dataset_completo = pd.read_csv(\"https://cdn.buenosaires.gob.ar/datosabiertos/datasets/salud/casos-covid-19/casos_covid19.csv\")"
   ]
  },
  {
   "cell_type": "code",
   "execution_count": 114,
   "metadata": {},
   "outputs": [],
   "source": [
    "meses_replace = {\"JAN\":\"01\",\"FEB\":\"02\",\"MAR\":\"03\",\"APR\":\"04\",\"MAY\":\"05\",\"JUN\":\"06\",\"JUL\":\"07\",\"AUG\":\"08\",\"SEP\":\"09\",\"OCT\":\"10\",\"NOV\":\"11\",\"DEC\":\"12\"}"
   ]
  },
  {
   "cell_type": "code",
   "execution_count": 115,
   "metadata": {},
   "outputs": [],
   "source": [
    "dataset_completo_procesado = dataset_completo.copy()\n",
    "####################################### CREAMOS LA COLUMNA DEL DIA DE CLASIFICACION ########################################\n",
    "mes_clasificacion = dataset_completo_procesado[\"fecha_clasificacion\"].str[2:5].replace(meses_replace)\n",
    "dia_clasificacion = dataset_completo_procesado[\"fecha_clasificacion\"].str[:2]\n",
    "dataset_completo_procesado[\"mes/dia\"] = mes_clasificacion.map(str) +\"/\"+ dia_clasificacion.map(str)\n",
    "#################################################################################################################\n",
    "\n",
    "################################## CREAMOS LA COLUMNA DEL DIA DE LA MUERTE ##################################################\n",
    "mes_muerte = dataset_completo_procesado[\"fecha_fallecimiento\"].str[2:5].replace(meses_replace)\n",
    "dia_muerte = dataset_completo_procesado[\"fecha_fallecimiento\"].str[:2]\n",
    "dataset_completo_procesado[\"mes/dia_fallecimiento\"] = mes_muerte.map(str) +\"/\"+ dia_muerte.map(str)\n",
    "#############################################################################################################################"
   ]
  },
  {
   "cell_type": "code",
   "execution_count": 116,
   "metadata": {},
   "outputs": [],
   "source": [
    "#################################### AQUI UTILIZAREMOS DISTINTOS CRITERIOS PARA SORTEAR EL DATASET ##########################\n",
    "dataset_completo_procesado_sorted_clasificacion = dataset_completo_procesado.copy().sort_values(\"mes/dia\")\n",
    "dataset_completo_procesado_sorted_muerte = dataset_completo_procesado.copy().sort_values(\"mes/dia_fallecimiento\")"
   ]
  },
  {
   "cell_type": "code",
   "execution_count": 117,
   "metadata": {},
   "outputs": [],
   "source": [
    "def nuevos_casos_caba_dia(dia, residentes = True):\n",
    "    filtro = dataset_completo_procesado.copy()\n",
    "    if residentes:\n",
    "        filtro = filtro[filtro[\"provincia\"]==\"CABA\"]\n",
    "    confirmados = filtro[filtro[\"clasificacion\"]==\"confirmado\"]\n",
    "    cant_casos = confirmados[confirmados[\"mes/dia\"]==dia]\n",
    "    return {dia: len(cant_casos)}"
   ]
  },
  {
   "cell_type": "code",
   "execution_count": 118,
   "metadata": {},
   "outputs": [],
   "source": [
    "def nuevas_muertes_caba_dia(dia, residentes = True):\n",
    "    filtro = dataset_completo_procesado.copy()\n",
    "    if residentes:\n",
    "        filtro = filtro[filtro[\"provincia\"]==\"CABA\"]\n",
    "    muertes = filtro[filtro[\"fallecido\"]==\"si\"]\n",
    "    cant_muertes = muertes[muertes[\"mes/dia_fallecimiento\"]==dia]\n",
    "    return {dia: len(cant_muertes)}"
   ]
  },
  {
   "cell_type": "code",
   "execution_count": 119,
   "metadata": {},
   "outputs": [],
   "source": [
    "def nuevos_casos_caba_rango(desde=\"0\",hasta=\"3000\", residentes = True):\n",
    "    filtro = dataset_completo_procesado_sorted_clasificacion.copy()\n",
    "    if residentes:\n",
    "        filtro = filtro[filtro[\"provincia\"]==\"CABA\"]\n",
    "    confirmados = filtro[filtro[\"clasificacion\"]==\"confirmado\"]\n",
    "    confirmados_dict = {}\n",
    "    for i in confirmados[\"mes/dia\"]:\n",
    "        if desde <= i < hasta:\n",
    "            confirmados_dict[i] = confirmados_dict.get(i,0) + 1 \n",
    "    return confirmados_dict"
   ]
  },
  {
   "cell_type": "code",
   "execution_count": 120,
   "metadata": {},
   "outputs": [],
   "source": [
    "def nuevas_muertes_caba_rango(desde=\"0\",hasta=\"3000\", residentes = True):\n",
    "    filtro = dataset_completo_procesado_sorted_muerte.copy()\n",
    "    if residentes:\n",
    "        filtro = filtro[filtro[\"provincia\"]==\"CABA\"]\n",
    "    muertes = filtro[filtro[\"fallecido\"]==\"si\"]\n",
    "    muertes_dict = {}\n",
    "    for i in muertes[\"mes/dia_fallecimiento\"]:\n",
    "        if desde <= i < hasta:\n",
    "            muertes_dict[i] = muertes_dict.get(i,0) + 1 \n",
    "    return muertes_dict"
   ]
  },
  {
   "cell_type": "markdown",
   "metadata": {},
   "source": [
    "## Lo que viene a continuacion son pruebas"
   ]
  },
  {
   "cell_type": "code",
   "execution_count": 121,
   "metadata": {},
   "outputs": [
    {
     "data": {
      "text/plain": [
       "{'11/15': 32}"
      ]
     },
     "execution_count": 121,
     "metadata": {},
     "output_type": "execute_result"
    }
   ],
   "source": [
    "nuevos_casos_caba_dia(\"11/15\")"
   ]
  },
  {
   "cell_type": "code",
   "execution_count": 122,
   "metadata": {},
   "outputs": [
    {
     "data": {
      "text/plain": [
       "{'11/10': 15, '11/11': 9, '11/12': 6, '11/13': 1, '11/14': 4, '11/15': 1}"
      ]
     },
     "execution_count": 122,
     "metadata": {},
     "output_type": "execute_result"
    }
   ],
   "source": [
    "nuevas_muertes_caba_rango(\"11/10\")"
   ]
  },
  {
   "cell_type": "code",
   "execution_count": 123,
   "metadata": {},
   "outputs": [
    {
     "data": {
      "text/plain": [
       "{'11/12': 426, '11/13': 375, '11/14': 267, '11/15': 32}"
      ]
     },
     "execution_count": 123,
     "metadata": {},
     "output_type": "execute_result"
    }
   ],
   "source": [
    "nuevos_casos_caba_rango(\"11/12\")"
   ]
  },
  {
   "cell_type": "code",
   "execution_count": 128,
   "metadata": {},
   "outputs": [],
   "source": [
    "testeos_dia = dataset_completo[dataset_completo[\"fecha_clasificacion\"]==\"12NOV2020:00:00:00.000000\"]"
   ]
  },
  {
   "cell_type": "code",
   "execution_count": 129,
   "metadata": {},
   "outputs": [],
   "source": [
    "confirmados_dia = testeos_dia[testeos_dia[\"clasificacion\"]==\"confirmado\"]"
   ]
  },
  {
   "cell_type": "code",
   "execution_count": 130,
   "metadata": {},
   "outputs": [
    {
     "data": {
      "text/plain": [
       "426"
      ]
     },
     "execution_count": 130,
     "metadata": {},
     "output_type": "execute_result"
    }
   ],
   "source": [
    "len(confirmados_dia[confirmados_dia[\"provincia\"]==\"CABA\"])"
   ]
  },
  {
   "cell_type": "code",
   "execution_count": 131,
   "metadata": {},
   "outputs": [],
   "source": [
    "muertes_dia = dataset_completo[dataset_completo[\"fecha_fallecimiento\"]==\"12NOV2020:00:00:00.000000\"]"
   ]
  },
  {
   "cell_type": "code",
   "execution_count": 133,
   "metadata": {},
   "outputs": [
    {
     "data": {
      "text/plain": [
       "6"
      ]
     },
     "execution_count": 133,
     "metadata": {},
     "output_type": "execute_result"
    }
   ],
   "source": [
    "len(muertes_dia[muertes_dia[\"provincia\"]==\"CABA\"])"
   ]
  },
  {
   "cell_type": "code",
   "execution_count": null,
   "metadata": {},
   "outputs": [],
   "source": []
  }
 ],
 "metadata": {
  "kernelspec": {
   "display_name": "Python 3",
   "language": "python",
   "name": "python3"
  },
  "language_info": {
   "codemirror_mode": {
    "name": "ipython",
    "version": 3
   },
   "file_extension": ".py",
   "mimetype": "text/x-python",
   "name": "python",
   "nbconvert_exporter": "python",
   "pygments_lexer": "ipython3",
   "version": "3.7.4"
  }
 },
 "nbformat": 4,
 "nbformat_minor": 4
}
